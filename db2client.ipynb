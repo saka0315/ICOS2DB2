{
 "cells": [
  {
   "cell_type": "code",
   "execution_count": 1,
   "metadata": {},
   "outputs": [
    {
     "name": "stdout",
     "output_type": "stream",
     "text": [
      "Collecting ibmdbpy\n",
      "  Downloading ibmdbpy-0.1.6-py2.py3-none-any.whl (148 kB)\n",
      "\u001b[K     |████████████████████████████████| 148 kB 24.1 MB/s eta 0:00:01\n",
      "\u001b[?25hCollecting lazy\n",
      "  Downloading lazy-1.4-py2.py3-none-any.whl (6.2 kB)\n",
      "Collecting pypyodbc\n",
      "  Downloading pypyodbc-1.3.6.tar.gz (24 kB)\n",
      "Requirement already satisfied: future in /opt/conda/envs/Python-3.9/lib/python3.9/site-packages (from ibmdbpy) (0.18.2)\n",
      "Requirement already satisfied: six in /opt/conda/envs/Python-3.9/lib/python3.9/site-packages (from ibmdbpy) (1.15.0)\n",
      "Requirement already satisfied: numpy in /opt/conda/envs/Python-3.9/lib/python3.9/site-packages (from ibmdbpy) (1.20.3)\n",
      "Requirement already satisfied: pandas in /opt/conda/envs/Python-3.9/lib/python3.9/site-packages (from ibmdbpy) (1.3.4)\n",
      "Requirement already satisfied: python-dateutil>=2.7.3 in /opt/conda/envs/Python-3.9/lib/python3.9/site-packages (from pandas->ibmdbpy) (2.8.2)\n",
      "Requirement already satisfied: pytz>=2017.3 in /opt/conda/envs/Python-3.9/lib/python3.9/site-packages (from pandas->ibmdbpy) (2021.3)\n",
      "Requirement already satisfied: setuptools in /opt/conda/envs/Python-3.9/lib/python3.9/site-packages (from pypyodbc->ibmdbpy) (58.0.4)\n",
      "Building wheels for collected packages: pypyodbc\n",
      "  Building wheel for pypyodbc (setup.py) ... \u001b[?25ldone\n",
      "\u001b[?25h  Created wheel for pypyodbc: filename=pypyodbc-1.3.6-py3-none-any.whl size=22873 sha256=829600a979d8c7280ccf621190977741b1d3e6102a2aab98b8cf7dcc928faafe\n",
      "  Stored in directory: /tmp/wsuser/.cache/pip/wheels/4a/b0/00/a014827d8966a4b2601f6bff537634a1fe3e7b4269fe668879\n",
      "Successfully built pypyodbc\n",
      "Installing collected packages: pypyodbc, lazy, ibmdbpy\n",
      "Successfully installed ibmdbpy-0.1.6 lazy-1.4 pypyodbc-1.3.6\n"
     ]
    },
    {
     "name": "stderr",
     "output_type": "stream",
     "text": [
      "/opt/conda/envs/Python-3.9/lib/python3.9/site-packages/ibmdbpy/frame.py:45: FutureWarning: pandas.core.index is deprecated and will be removed in a future version.  The public classes are available in the top-level namespace.\n",
      "  from pandas.core.index import Index, RangeIndex\n"
     ]
    },
    {
     "name": "stdout",
     "output_type": "stream",
     "text": [
      "Uploading 183 rows (maxnrow was set to 9090)\n",
      "Connection closed.\n",
      "12.388944381964393\n"
     ]
    }
   ],
   "source": [
    "import time\n",
    "start_time = time.perf_counter()\n",
    "\n",
    "#ICOS CSVファイルからPandasデータフレームに読み込み\n",
    "#Pandas Dataframeのコードの自動入力\n",
    "\n",
    "import types\n",
    "import pandas as pd\n",
    "import ibm_boto3\n",
    "from botocore.client import Config\n",
    "\n",
    "def __iter__(self): return 0\n",
    "\n",
    "# @hidden_cell\n",
    "# The following code accesses a file in your IBM Cloud Object Storage. It includes your credentials.\n",
    "# You might want to remove those credentials before you share your notebook.\n",
    "\n",
    "ICOS_client = ibm_boto3.client(\n",
    "    service_name='s3',\n",
    "    ibm_api_key_id='zs1NHzCczD5gDz9Ofjs7NcRA_kc-Y1PXI6v3IGwD0Usl',\n",
    "    ibm_service_instance_id='crn:v1:bluemix:public:cloud-object-storage:global:a/039dbe6794084c7cb514a276dd2345da:78ee3380-6b51-4cc5-b61f-f0bd9d3e0fbd::',\n",
    "    ibm_auth_endpoint='https://iam.cloud.ibm.com/identity/token',\n",
    "    config=Config(signature_version='oauth'),\n",
    "    endpoint_url='https://s3.jp-tok.cloud-object-storage.appdomain.cloud'\n",
    ")\n",
    "\n",
    "body = ICOS_client.get_object(Bucket='dbload', Key='data10.csv')['Body']\n",
    "# add missing __iter__ method, so pandas accepts body as file-like object\n",
    "if not hasattr(body, \"__iter__\"): body.__iter__ = types.MethodType( __iter__, body )\n",
    "\n",
    "df_data_1 = pd.read_csv(body)\n",
    "#df_data_1.head()\n",
    "\n",
    "#ibmdbpyによるDb2への接続\n",
    "\n",
    "!pip install ibmdbpy\n",
    "from ibmdbpy import IdaDataBase, IdaDataFrame\n",
    "\n",
    "#DB2接続のための資格情報の自動入力\n",
    "# @hidden_cell\n",
    "# The following code contains the credentials for a connection in your Project.\n",
    "# You might want to remove those credentials before you share your notebook.\n",
    "credentials_1 = {\n",
    "    'username': '03235f92',\n",
    "    'password': \"\"\"06axymmDQcNYVJFX\"\"\",\n",
    "    'database': 'bludb',\n",
    "    'host': '4299a8bc-68c6-4080-895f-cfa4e3cf78fe.bs2ipmbt0ifld8rdc9u0.databases.appdomain.cloud',\n",
    "    'port': '30450',\n",
    "}\n",
    "\n",
    "dsn = 'DASHDB;Database={};Hostname={};Port={};PROTOCOL=TCPIP;UID={};PWD={};SECURITY=SSL'.format(\n",
    "    credentials_1['database'],\n",
    "    credentials_1['host'],\n",
    "    credentials_1['port'],\n",
    "    credentials_1['username'],\n",
    "    credentials_1['password']\n",
    ")\n",
    "\n",
    "idadb = IdaDataBase(dsn)\n",
    "\n",
    "#Pandasデータフレームのデータを既存の表にロードする\n",
    "\n",
    "ida_df = IdaDataFrame(idadb, 'EMPLOYEE30')\n",
    "idadb.append(ida_df, df_data_1)\n",
    "\n",
    "#ida_df = idadb.as_idataframe(df_data_1,'employee31')\n",
    "#idadb.commit\n",
    "\n",
    "idadb.close()\n",
    "\n",
    "end_time = time.perf_counter()\n",
    " \n",
    "elapsed_time = end_time - start_time\n",
    "print(elapsed_time)"
   ]
  },
  {
   "cell_type": "code",
   "execution_count": null,
   "metadata": {},
   "outputs": [],
   "source": []
  }
 ],
 "metadata": {
  "kernelspec": {
   "display_name": "Python 3.9",
   "language": "python",
   "name": "python3"
  },
  "language_info": {
   "codemirror_mode": {
    "name": "ipython",
    "version": 3
   },
   "file_extension": ".py",
   "mimetype": "text/x-python",
   "name": "python",
   "nbconvert_exporter": "python",
   "pygments_lexer": "ipython3",
   "version": "3.9.7"
  }
 },
 "nbformat": 4,
 "nbformat_minor": 1
}
