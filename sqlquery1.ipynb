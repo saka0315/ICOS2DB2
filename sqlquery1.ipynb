{
 "cells": [
  {
   "cell_type": "code",
   "execution_count": 3,
   "metadata": {},
   "outputs": [
    {
     "name": "stdout",
     "output_type": "stream",
     "text": [
      "Requirement already satisfied: ibmcloudsql in /opt/conda/envs/Python-3.9/lib/python3.9/site-packages (0.5.5)\n",
      "Requirement already satisfied: typing-extensions in /opt/conda/envs/Python-3.9/lib/python3.9/site-packages (from ibmcloudsql) (3.7.4.3)\n",
      "Requirement already satisfied: pre-commit in /opt/conda/envs/Python-3.9/lib/python3.9/site-packages (from ibmcloudsql) (2.19.0)\n",
      "Requirement already satisfied: deprecated in /opt/conda/envs/Python-3.9/lib/python3.9/site-packages (from ibmcloudsql) (1.2.13)\n",
      "Requirement already satisfied: sqlparse>=0.4.2 in /opt/conda/envs/Python-3.9/lib/python3.9/site-packages (from ibmcloudsql) (0.4.2)\n",
      "Requirement already satisfied: isodate in /opt/conda/envs/Python-3.9/lib/python3.9/site-packages (from ibmcloudsql) (0.6.1)\n",
      "Requirement already satisfied: importlib-metadata in /opt/conda/envs/Python-3.9/lib/python3.9/site-packages (from ibmcloudsql) (4.8.2)\n",
      "Requirement already satisfied: python-dateutil in /opt/conda/envs/Python-3.9/lib/python3.9/site-packages (from ibmcloudsql) (2.8.2)\n",
      "Requirement already satisfied: pandas>=1.1.0 in /opt/conda/envs/Python-3.9/lib/python3.9/site-packages (from ibmcloudsql) (1.3.4)\n",
      "Requirement already satisfied: ibm-cos-sdk>=2.10.0 in /opt/conda/envs/Python-3.9/lib/python3.9/site-packages (from ibmcloudsql) (2.11.0)\n",
      "Requirement already satisfied: numpy in /opt/conda/envs/Python-3.9/lib/python3.9/site-packages (from ibmcloudsql) (1.20.3)\n",
      "Requirement already satisfied: pyarrow in /opt/conda/envs/Python-3.9/lib/python3.9/site-packages (from ibmcloudsql) (5.0.0)\n",
      "Requirement already satisfied: backoff==1.10.0 in /opt/conda/envs/Python-3.9/lib/python3.9/site-packages (from ibmcloudsql) (1.10.0)\n",
      "Requirement already satisfied: packaging in /opt/conda/envs/Python-3.9/lib/python3.9/site-packages (from ibmcloudsql) (21.3)\n",
      "Requirement already satisfied: ibm-cos-sdk-core>=2.10.0 in /opt/conda/envs/Python-3.9/lib/python3.9/site-packages (from ibmcloudsql) (2.11.0)\n",
      "Requirement already satisfied: requests>=2.2.0 in /opt/conda/envs/Python-3.9/lib/python3.9/site-packages (from ibmcloudsql) (2.26.0)\n",
      "Requirement already satisfied: jmespath<1.0.0,>=0.7.1 in /opt/conda/envs/Python-3.9/lib/python3.9/site-packages (from ibm-cos-sdk>=2.10.0->ibmcloudsql) (0.10.0)\n",
      "Requirement already satisfied: ibm-cos-sdk-s3transfer==2.11.0 in /opt/conda/envs/Python-3.9/lib/python3.9/site-packages (from ibm-cos-sdk>=2.10.0->ibmcloudsql) (2.11.0)\n",
      "Requirement already satisfied: urllib3<1.27,>=1.26.7 in /opt/conda/envs/Python-3.9/lib/python3.9/site-packages (from ibm-cos-sdk-core>=2.10.0->ibmcloudsql) (1.26.7)\n",
      "Requirement already satisfied: pytz>=2017.3 in /opt/conda/envs/Python-3.9/lib/python3.9/site-packages (from pandas>=1.1.0->ibmcloudsql) (2021.3)\n",
      "Requirement already satisfied: six>=1.5 in /opt/conda/envs/Python-3.9/lib/python3.9/site-packages (from python-dateutil->ibmcloudsql) (1.15.0)\n",
      "Requirement already satisfied: certifi>=2017.4.17 in /opt/conda/envs/Python-3.9/lib/python3.9/site-packages (from requests>=2.2.0->ibmcloudsql) (2021.10.8)\n",
      "Requirement already satisfied: charset-normalizer~=2.0.0 in /opt/conda/envs/Python-3.9/lib/python3.9/site-packages (from requests>=2.2.0->ibmcloudsql) (2.0.4)\n",
      "Requirement already satisfied: idna<4,>=2.5 in /opt/conda/envs/Python-3.9/lib/python3.9/site-packages (from requests>=2.2.0->ibmcloudsql) (3.3)\n",
      "Requirement already satisfied: wrapt<2,>=1.10 in /opt/conda/envs/Python-3.9/lib/python3.9/site-packages (from deprecated->ibmcloudsql) (1.12.1)\n",
      "Requirement already satisfied: zipp>=0.5 in /opt/conda/envs/Python-3.9/lib/python3.9/site-packages (from importlib-metadata->ibmcloudsql) (3.6.0)\n",
      "Requirement already satisfied: pyparsing!=3.0.5,>=2.0.2 in /opt/conda/envs/Python-3.9/lib/python3.9/site-packages (from packaging->ibmcloudsql) (3.0.4)\n",
      "Requirement already satisfied: toml in /opt/conda/envs/Python-3.9/lib/python3.9/site-packages (from pre-commit->ibmcloudsql) (0.10.2)\n",
      "Requirement already satisfied: cfgv>=2.0.0 in /opt/conda/envs/Python-3.9/lib/python3.9/site-packages (from pre-commit->ibmcloudsql) (3.3.1)\n",
      "Requirement already satisfied: pyyaml>=5.1 in /opt/conda/envs/Python-3.9/lib/python3.9/site-packages (from pre-commit->ibmcloudsql) (5.4.1)\n",
      "Requirement already satisfied: nodeenv>=0.11.1 in /opt/conda/envs/Python-3.9/lib/python3.9/site-packages (from pre-commit->ibmcloudsql) (1.6.0)\n",
      "Requirement already satisfied: identify>=1.0.0 in /opt/conda/envs/Python-3.9/lib/python3.9/site-packages (from pre-commit->ibmcloudsql) (2.5.0)\n",
      "Requirement already satisfied: virtualenv>=20.0.8 in /opt/conda/envs/Python-3.9/lib/python3.9/site-packages (from pre-commit->ibmcloudsql) (20.14.1)\n",
      "Requirement already satisfied: distlib<1,>=0.3.1 in /opt/conda/envs/Python-3.9/lib/python3.9/site-packages (from virtualenv>=20.0.8->pre-commit->ibmcloudsql) (0.3.4)\n",
      "Requirement already satisfied: platformdirs<3,>=2 in /opt/conda/envs/Python-3.9/lib/python3.9/site-packages (from virtualenv>=20.0.8->pre-commit->ibmcloudsql) (2.5.2)\n",
      "Requirement already satisfied: filelock<4,>=3.2 in /opt/conda/envs/Python-3.9/lib/python3.9/site-packages (from virtualenv>=20.0.8->pre-commit->ibmcloudsql) (3.6.0)\n",
      "27.45853741496103\n"
     ]
    }
   ],
   "source": [
    "import time\n",
    "start_time = time.perf_counter()\n",
    "\n",
    "!pip install --upgrade ibmcloudsql\n",
    " \n",
    "import ibmcloudsql\n",
    "\n",
    "#cloud_api_key 入力　(ICOS,SQLQuery,DB2権限)\n",
    "cloud_api_key = \"NfwMDnJphZHHdJ6cnRLKOrSrkgpsMeDg7Ly77AZ4yxEY\"\n",
    "\n",
    "#SQLQuery Instance crn 入力 \n",
    "sql_crn = \"crn:v1:bluemix:public:sql-query:us-south:a/039dbe6794084c7cb514a276dd2345da:82c3edab-8a45-4f0d-b598-922cafef8b83::\"\n",
    "\n",
    "#SQLQuery Job log 出力先\n",
    "sql_cos_endpoint = \"cos://jp-tok/dbload/result/\"\n",
    "\n",
    "sqlClient = ibmcloudsql.SQLQuery(cloud_api_key,sql_crn,sql_cos_endpoint)\n",
    "\n",
    "#SQL文の入力　(from: ICOS CSV名, into: DB2 table名)\n",
    "query = \"\"\"SELECT *\n",
    "FROM cos://jp-tok/dbload/data10.csv STORED AS CSV\n",
    "into crn:v1:bluemix:public:dashdb-for-transactions:jp-tok:a/039dbe6794084c7cb514a276dd2345da:4299a8bc-68c6-4080-895f-cfa4e3cf78fe::/employee30\n",
    "\"\"\"\n",
    "\n",
    "#SQL文の実行\n",
    "kekka = sqlClient.run_sql(query)\n",
    "\n",
    "end_time = time.perf_counter()\n",
    " \n",
    "elapsed_time = end_time - start_time\n",
    "print(elapsed_time)\n"
   ]
  },
  {
   "cell_type": "code",
   "execution_count": null,
   "metadata": {},
   "outputs": [],
   "source": []
  }
 ],
 "metadata": {
  "kernelspec": {
   "display_name": "Python 3.9",
   "language": "python",
   "name": "python3"
  },
  "language_info": {
   "codemirror_mode": {
    "name": "ipython",
    "version": 3
   },
   "file_extension": ".py",
   "mimetype": "text/x-python",
   "name": "python",
   "nbconvert_exporter": "python",
   "pygments_lexer": "ipython3",
   "version": "3.9.7"
  }
 },
 "nbformat": 4,
 "nbformat_minor": 1
}
